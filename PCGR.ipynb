{
 "cells": [
  {
   "cell_type": "code",
   "execution_count": null,
   "id": "7fc98537",
   "metadata": {},
   "outputs": [],
   "source": [
    "import pandas as pd\n",
    "import csv\n",
    "import random\n",
    "import numpy as np\n",
    "import matplotlib.pyplot as plt\n",
    "from itertools import product\n",
    "import math \n",
    "import cmath"
   ]
  },
  {
   "cell_type": "code",
   "execution_count": null,
   "id": "f24fa88c",
   "metadata": {},
   "outputs": [],
   "source": [
    "bcseq = np.load(\"path to sequnce .npy file\")\n",
    "\n",
    "lst = [x.upper() for x in list(bcseq)]\n",
    "seq_data = np.array(lst)\n",
    "\n",
    "def build_kmers(sequence, ksize):\n",
    "    kmers = []\n",
    "    n_kmers = len(sequence) - ksize + 1\n",
    "    for i in range(n_kmers):\n",
    "        kmer = sequence[i:i + ksize]\n",
    "        kmers.append(kmer)\n",
    "    return kmers\n",
    "\n",
    "gmer_length = 9\n",
    "spaced_kmer_length = 4\n",
    "unique_seq_kmers_final_list = [''.join(c) for c in product('ACDEFGHIKLMNPQRSTVWY', repeat=spaced_kmer_length)]\n",
    "\n",
    "for seq_ind in range(len(seq_data)):\n",
    "    if seq_ind%1000==0:\n",
    "        print(\"index: \",seq_ind,\"/\",len(seq_data))\n",
    "    se_temp = seq_data[seq_ind]\n",
    "    gmers_list = build_kmers(se_temp,gmer_length)\n",
    "    spaced_kmers = []\n",
    "    for i in range(len(gmers_list)):\n",
    "        temp_val = gmers_list[i]\n",
    "        spaced_kmers.append(temp_val[0:spaced_kmer_length])\n",
    "    x, y = [1], [1]\n",
    "    point = np.array([1, 1])\n",
    "    for j in range(len(spaced_kmers)):\n",
    "        for aa in (spaced_kmers[j]):\n",
    "            num = (ord(aa) - 64)\n",
    "            tmp_x = math.sin((2*math.pi*num)/20)\n",
    "            tmp_y = math.cos((2*math.pi*num)/20)\n",
    "            coord = np.array([tmp_x, tmp_y])\n",
    "            point = (point + coord) / 2\n",
    "            x.append(point[0])\n",
    "            y.append(point[1])\n",
    "    plt.plot(x, y, 'o')\n",
    "    plt.savefig('path to save the images/'+str(seq_ind))\n",
    "    plt.show()"
   ]
  }
 ],
 "metadata": {
  "kernelspec": {
   "display_name": "Python 3",
   "language": "python",
   "name": "python3"
  },
  "language_info": {
   "codemirror_mode": {
    "name": "ipython",
    "version": 3
   },
   "file_extension": ".py",
   "mimetype": "text/x-python",
   "name": "python",
   "nbconvert_exporter": "python",
   "pygments_lexer": "ipython3",
   "version": "3.8.5"
  }
 },
 "nbformat": 4,
 "nbformat_minor": 5
}
